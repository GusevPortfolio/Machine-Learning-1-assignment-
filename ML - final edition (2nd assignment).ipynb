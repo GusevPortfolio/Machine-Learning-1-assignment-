{
 "cells": [
  {
   "cell_type": "code",
   "execution_count": 9,
   "id": "56614dcb",
   "metadata": {},
   "outputs": [],
   "source": [
    "import numpy as np\n",
    "import pandas as pd\n",
    "import os\n",
    "import matplotlib.pyplot as plt\n",
    "from PIL import Image\n",
    "import random\n",
    "import tensorflow as tf\n",
    "from tensorflow.keras.optimizers import RMSprop\n",
    "from tensorflow.keras.optimizers import Adam\n",
    "from tensorflow.keras.preprocessing.image import ImageDataGenerator, load_img, img_to_array\n",
    "from tensorflow.keras.utils import to_categorical\n",
    "from tensorflow.keras.layers import Input, Dense, Dropout, Conv2D, MaxPooling2D, UpSampling2D, Flatten, Reshape, Conv2DTranspose, ZeroPadding2D, Cropping2D\n",
    "from tensorflow.keras.models import Model\n",
    "from shutil import copyfile, rmtree\n",
    "from timeit import default_timer as timer"
   ]
  },
  {
   "cell_type": "code",
   "execution_count": 10,
   "id": "dc96f938",
   "metadata": {},
   "outputs": [],
   "source": [
    "#ОС - библиотека для работы с операционкой. Этой командой видим путь\n",
    "INPUT_ROOT = \"ML - 2\"\n",
    "def from_input(path):\n",
    "    return os.path.join(INPUT_ROOT, path)"
   ]
  },
  {
   "cell_type": "code",
   "execution_count": 11,
   "id": "ea5e24c7",
   "metadata": {},
   "outputs": [
    {
     "data": {
      "text/plain": [
       "ClassId\n",
       "0      210\n",
       "1     2220\n",
       "2     2250\n",
       "3     1410\n",
       "4     1980\n",
       "5     1860\n",
       "6      420\n",
       "7     1440\n",
       "8     1410\n",
       "9     1470\n",
       "10    2010\n",
       "11    1320\n",
       "12    2100\n",
       "13    2160\n",
       "14     780\n",
       "15     630\n",
       "16     420\n",
       "17    1110\n",
       "18    1200\n",
       "19     210\n",
       "20     360\n",
       "21     330\n",
       "22     390\n",
       "23     510\n",
       "24     270\n",
       "25    1500\n",
       "26     600\n",
       "27     240\n",
       "28     540\n",
       "29     270\n",
       "30     450\n",
       "31     780\n",
       "32     240\n",
       "33     689\n",
       "34     420\n",
       "35    1200\n",
       "36     390\n",
       "37     210\n",
       "38    2070\n",
       "39     300\n",
       "40     360\n",
       "41     240\n",
       "42     240\n",
       "Name: ClassId, dtype: int64"
      ]
     },
     "execution_count": 11,
     "metadata": {},
     "output_type": "execute_result"
    }
   ],
   "source": [
    "# Загружаем csv о обучении.\n",
    "train_info = pd.read_csv(from_input(\"Train.csv\"))\n",
    "train_info.groupby('ClassId')['ClassId'].count()"
   ]
  },
  {
   "cell_type": "code",
   "execution_count": 12,
   "id": "8a93c993",
   "metadata": {},
   "outputs": [
    {
     "data": {
      "text/plain": [
       "ClassId\n",
       "0      60\n",
       "1     720\n",
       "2     750\n",
       "3     450\n",
       "4     660\n",
       "5     630\n",
       "6     150\n",
       "7     450\n",
       "8     450\n",
       "9     480\n",
       "10    660\n",
       "11    420\n",
       "12    690\n",
       "13    720\n",
       "14    270\n",
       "15    210\n",
       "16    150\n",
       "17    360\n",
       "18    390\n",
       "19     60\n",
       "20     90\n",
       "21     90\n",
       "22    120\n",
       "23    150\n",
       "24     90\n",
       "25    480\n",
       "26    180\n",
       "27     60\n",
       "28    150\n",
       "29     90\n",
       "30    150\n",
       "31    270\n",
       "32     60\n",
       "33    210\n",
       "34    120\n",
       "35    390\n",
       "36    120\n",
       "37     60\n",
       "38    690\n",
       "39     90\n",
       "40     90\n",
       "41     60\n",
       "42     90\n",
       "Name: ClassId, dtype: int64"
      ]
     },
     "execution_count": 12,
     "metadata": {},
     "output_type": "execute_result"
    }
   ],
   "source": [
    "# Загружаем csv о тесте.\n",
    "test_info =  pd.read_csv(from_input(\"Test.csv\"))\n",
    "test_info.groupby('ClassId')['ClassId'].count()"
   ]
  },
  {
   "cell_type": "code",
   "execution_count": 13,
   "id": "845f9c7d",
   "metadata": {},
   "outputs": [],
   "source": [
    "TARGET_SIZE = (40, 40) # изображения будут изменены до этого размера\n",
    "FLATTEN_SIZE = TARGET_SIZE[0] * TARGET_SIZE[1] * 3\n",
    "BATCH_SIZE=500"
   ]
  },
  {
   "cell_type": "code",
   "execution_count": 14,
   "id": "6fd75727",
   "metadata": {},
   "outputs": [
    {
     "name": "stdout",
     "output_type": "stream",
     "text": [
      "Data loaded.              \n"
     ]
    }
   ],
   "source": [
    "paths = train_info['Path'].values\n",
    "y_train = train_info['ClassId'].values\n",
    "\n",
    "indices = np.arange(y_train.shape[0])\n",
    "randgen = random.Random(62)\n",
    "randgen.shuffle(indices)\n",
    "\n",
    "paths = paths[indices]\n",
    "y_train = y_train[indices]\n",
    "y_train = to_categorical(y_train, 43)\n",
    "\n",
    "train_data=[]\n",
    "\n",
    "for i, f in enumerate(paths):\n",
    "    print('\\rLoading data {0:.1f}%...'.format((i / len(paths)) * 100), end = '\\r')\n",
    "    image = load_img(os.path.join(from_input('train'), f.replace('Train/', '')), target_size=TARGET_SIZE)\n",
    "    train_data.append(img_to_array(image))\n",
    "\n",
    "print('Data loaded.              ')"
   ]
  },
  {
   "cell_type": "code",
   "execution_count": 15,
   "id": "384bee3c",
   "metadata": {},
   "outputs": [],
   "source": [
    "X_train = tf.keras.applications.vgg16.preprocess_input(np.array(train_data))\n",
    "train_data = None"
   ]
  },
  {
   "cell_type": "code",
   "execution_count": 16,
   "id": "24036a5a",
   "metadata": {},
   "outputs": [],
   "source": [
    "train_datagen = ImageDataGenerator(rescale=1.0/255.0)\n",
    "\n",
    "train_generator = train_datagen.flow(X_train,\n",
    "                                    y_train,\n",
    "                                    batch_size=BATCH_SIZE,\n",
    "                                    shuffle=True,\n",
    "                                    seed=17)\n",
    "\n",
    "train_aug_datagen = ImageDataGenerator(rescale=1.0/255.0,\n",
    "                                       rotation_range = 18,\n",
    "                                       width_shift_range = 0.18,\n",
    "                                       height_shift_range = 0.18,\n",
    "                                       shear_range = 0.18,\n",
    "                                       zoom_range = 0.18,\n",
    "                                       horizontal_flip = False)\n",
    "\n",
    "train_aug_generator = train_datagen.flow(X_train,\n",
    "                                    y_train,\n",
    "                                    batch_size=BATCH_SIZE,\n",
    "                                    shuffle=True,\n",
    "                                    seed=17)"
   ]
  },
  {
   "cell_type": "code",
   "execution_count": 17,
   "id": "df985a99",
   "metadata": {},
   "outputs": [
    {
     "name": "stdout",
     "output_type": "stream",
     "text": [
      "Data loaded.              \n"
     ]
    }
   ],
   "source": [
    "paths = test_info['Path'].values\n",
    "y_test = test_info['ClassId'].values\n",
    "y_test = to_categorical(y_test, 43)\n",
    "\n",
    "test_data=[]\n",
    "\n",
    "for i, f in enumerate(paths):\n",
    "    print('\\rLoading data {0:.1f}%...'.format((i / len(paths)) * 100), end = '\\r')\n",
    "    image = load_img(os.path.join(from_input('test'), f.replace('Test/', '')), target_size=TARGET_SIZE)\n",
    "    test_data.append(img_to_array(image))\n",
    "\n",
    "print('Data loaded.              ')"
   ]
  },
  {
   "cell_type": "code",
   "execution_count": 18,
   "id": "a76fd8c0",
   "metadata": {},
   "outputs": [],
   "source": [
    "X_test = tf.keras.applications.vgg16.preprocess_input(np.array(test_data))\n",
    "test_data = None"
   ]
  },
  {
   "cell_type": "code",
   "execution_count": 19,
   "id": "f3959b67",
   "metadata": {},
   "outputs": [],
   "source": [
    "test_datagen = ImageDataGenerator(rescale=1.0/255.0)\n",
    "test_generator = test_datagen.flow(X_test,\n",
    "                                    y_test,\n",
    "                                    batch_size=BATCH_SIZE,\n",
    "                                    shuffle=False,\n",
    "                                    seed=17)"
   ]
  },
  {
   "cell_type": "code",
   "execution_count": 20,
   "id": "e60ee78a",
   "metadata": {},
   "outputs": [],
   "source": [
    "def plot(history, plot_accuracy = True):\n",
    "    %matplotlib inline\n",
    "\n",
    "    import matplotlib.image  as mpimg\n",
    "    import matplotlib.pyplot as plt\n",
    "\n",
    "    \n",
    "    loss=history.history['loss']\n",
    "    epochs=range(len(loss))\n",
    "    plt.figure()\n",
    "    plt.plot(epochs, loss, 'r', \"Training Loss\")\n",
    "    plt.xlabel('Epoch')\n",
    "    plt.title('Training loss')\n",
    "    # validation\n",
    "    plt.plot(epochs, history.history['val_loss'], 'b', \"Validation Loss\")\n",
    "\n",
    "    if plot_accuracy:\n",
    "        accuracy=history.history['accuracy']\n",
    "        plt.figure()\n",
    "        plt.plot(epochs, accuracy, 'r', \"Training Accuracy\")\n",
    "        plt.title('Training accuracy')\n",
    "        plt.xlabel('Epoch')\n",
    "        plt.plot(epochs, history.history['val_accuracy'], 'b', \"Validation Accuracy\")"
   ]
  },
  {
   "cell_type": "code",
   "execution_count": 21,
   "id": "8cc8f97b",
   "metadata": {},
   "outputs": [],
   "source": [
    "def show_layers(model):\n",
    "    print('Name\\tOutput shape\\tActivation\\tInitializer')\n",
    "    for l in model.layers:\n",
    "        print('{0}({1})\\t{2}\\t{3}\\t{4}'\n",
    "            .format(l.name,\n",
    "              l.__class__.__name__,\n",
    "              l.output_shape,\n",
    "              l.activation.__name__ if hasattr(l, 'activation') else '<none>',\n",
    "              l.kernel_initializer.__class__.__name__ if hasattr(l, 'kernel_initializer') else '<none>'))\n",
    "\n",
    "\n",
    "def custom_summary(model):\n",
    "    model.summary()\n",
    "    show_layers(model)"
   ]
  },
  {
   "cell_type": "code",
   "execution_count": 22,
   "id": "a3338d1d",
   "metadata": {},
   "outputs": [],
   "source": [
    "VERBOSE=1"
   ]
  },
  {
   "cell_type": "code",
   "execution_count": 23,
   "id": "5cdfde42",
   "metadata": {},
   "outputs": [],
   "source": [
    "def train_model(model, optimizer, epochs, train_generator):\n",
    "    model.compile(optimizer=optimizer, loss='categorical_crossentropy', metrics=['accuracy'])\n",
    "\n",
    "    start_time = timer()\n",
    "    history = model.fit_generator(train_generator,\n",
    "                        epochs=epochs,\n",
    "                        verbose=VERBOSE,\n",
    "                        callbacks=[tf.keras.callbacks.EarlyStopping(monitor='accuracy', min_delta=0.0001, patience=2)],\n",
    "                        validation_data=test_generator,\n",
    "                        steps_per_epoch= round(X_train.shape[0] / BATCH_SIZE))\n",
    "    end_time = timer()\n",
    "    \n",
    "    print('==============================')\n",
    "    print('Optimizer: ', optimizer.__class__.__name__)\n",
    "    print('Learning rate: ', optimizer.get_config()['learning_rate'])\n",
    "    print('Epochs: ', epochs)\n",
    "    print('==============================')\n",
    "    print('Trained in {0:.2f} minutes'.format((end_time - start_time) / 60))\n",
    "    \n",
    "    accuracy=history.history['accuracy'][-1]\n",
    "    test_accuracy = model.evaluate_generator(test_generator)[1]\n",
    "    \n",
    "    print('Results at the end of training: accuracy={1:.02f}%, test_accuracy={2:.02f}%'\n",
    "          .format(i, accuracy*100, test_accuracy*100))\n",
    "\n",
    "    plot(history)"
   ]
  },
  {
   "cell_type": "code",
   "execution_count": 24,
   "id": "66d8343c",
   "metadata": {},
   "outputs": [],
   "source": [
    "def get_classificator_model(base_model, last_output):\n",
    "    x = Flatten()(last_output)\n",
    "    x = Dropout(0.33)(x)\n",
    "    x = Dense(256, activation='relu')(x)\n",
    "    x = Dropout(0.33)(x)\n",
    "    x = Dense(128, activation='relu')(x)\n",
    "    x = Dense(43, activation='softmax')(x)           \n",
    "\n",
    "    model = Model(base_model.input, x)\n",
    "    return model"
   ]
  },
  {
   "cell_type": "code",
   "execution_count": 25,
   "id": "a020698b",
   "metadata": {},
   "outputs": [],
   "source": [
    "IMG_SHAPE = TARGET_SIZE + (3,)"
   ]
  },
  {
   "cell_type": "code",
   "execution_count": 26,
   "id": "e9c8c51e",
   "metadata": {
    "scrolled": true
   },
   "outputs": [
    {
     "name": "stdout",
     "output_type": "stream",
     "text": [
      "Model: \"vgg16\"\n",
      "_________________________________________________________________\n",
      " Layer (type)                Output Shape              Param #   \n",
      "=================================================================\n",
      " input_1 (InputLayer)        [(None, 40, 40, 3)]       0         \n",
      "                                                                 \n",
      " block1_conv1 (Conv2D)       (None, 40, 40, 64)        1792      \n",
      "                                                                 \n",
      " block1_conv2 (Conv2D)       (None, 40, 40, 64)        36928     \n",
      "                                                                 \n",
      " block1_pool (MaxPooling2D)  (None, 20, 20, 64)        0         \n",
      "                                                                 \n",
      " block2_conv1 (Conv2D)       (None, 20, 20, 128)       73856     \n",
      "                                                                 \n",
      " block2_conv2 (Conv2D)       (None, 20, 20, 128)       147584    \n",
      "                                                                 \n",
      " block2_pool (MaxPooling2D)  (None, 10, 10, 128)       0         \n",
      "                                                                 \n",
      " block3_conv1 (Conv2D)       (None, 10, 10, 256)       295168    \n",
      "                                                                 \n",
      " block3_conv2 (Conv2D)       (None, 10, 10, 256)       590080    \n",
      "                                                                 \n",
      " block3_conv3 (Conv2D)       (None, 10, 10, 256)       590080    \n",
      "                                                                 \n",
      " block3_pool (MaxPooling2D)  (None, 5, 5, 256)         0         \n",
      "                                                                 \n",
      " block4_conv1 (Conv2D)       (None, 5, 5, 512)         1180160   \n",
      "                                                                 \n",
      " block4_conv2 (Conv2D)       (None, 5, 5, 512)         2359808   \n",
      "                                                                 \n",
      " block4_conv3 (Conv2D)       (None, 5, 5, 512)         2359808   \n",
      "                                                                 \n",
      " block4_pool (MaxPooling2D)  (None, 2, 2, 512)         0         \n",
      "                                                                 \n",
      " block5_conv1 (Conv2D)       (None, 2, 2, 512)         2359808   \n",
      "                                                                 \n",
      " block5_conv2 (Conv2D)       (None, 2, 2, 512)         2359808   \n",
      "                                                                 \n",
      " block5_conv3 (Conv2D)       (None, 2, 2, 512)         2359808   \n",
      "                                                                 \n",
      " block5_pool (MaxPooling2D)  (None, 1, 1, 512)         0         \n",
      "                                                                 \n",
      "=================================================================\n",
      "Total params: 14,714,688\n",
      "Trainable params: 14,714,688\n",
      "Non-trainable params: 0\n",
      "_________________________________________________________________\n"
     ]
    }
   ],
   "source": [
    "pretrained_model = tf.keras.applications.VGG16(input_shape=IMG_SHAPE,\n",
    "                                               include_top=False,\n",
    "                                               weights='imagenet')\n",
    "\n",
    "pretrained_model.summary()"
   ]
  },
  {
   "cell_type": "code",
   "execution_count": 27,
   "id": "dec2fc7a",
   "metadata": {},
   "outputs": [
    {
     "name": "stdout",
     "output_type": "stream",
     "text": [
      "last layer output shape:  (None, 5, 5, 512)\n"
     ]
    }
   ],
   "source": [
    "for layer in pretrained_model.layers:\n",
    "    layer.trainable = False\n",
    "\n",
    "last_layer = pretrained_model.get_layer('block4_conv3')\n",
    "print('last layer output shape: ', last_layer.output_shape)\n",
    "last_output = last_layer.output"
   ]
  },
  {
   "cell_type": "code",
   "execution_count": 29,
   "id": "9faa2cd6",
   "metadata": {},
   "outputs": [
    {
     "name": "stdout",
     "output_type": "stream",
     "text": [
      "Epoch 1/10\n"
     ]
    },
    {
     "name": "stderr",
     "output_type": "stream",
     "text": [
      "C:\\Users\\Lenovo\\AppData\\Local\\Temp\\ipykernel_10316\\1527297203.py:5: UserWarning: `Model.fit_generator` is deprecated and will be removed in a future version. Please use `Model.fit`, which supports generators.\n",
      "  history = model.fit_generator(train_generator,\n"
     ]
    },
    {
     "name": "stdout",
     "output_type": "stream",
     "text": [
      "78/78 [==============================] - 146s 2s/step - loss: 2.1070 - accuracy: 0.4479 - val_loss: 1.1889 - val_accuracy: 0.6274\n",
      "Epoch 2/10\n",
      "78/78 [==============================] - 145s 2s/step - loss: 0.9181 - accuracy: 0.7008 - val_loss: 0.9761 - val_accuracy: 0.6861\n",
      "Epoch 3/10\n",
      "78/78 [==============================] - 143s 2s/step - loss: 0.6241 - accuracy: 0.7918 - val_loss: 0.9109 - val_accuracy: 0.7140\n",
      "Epoch 4/10\n",
      "78/78 [==============================] - 143s 2s/step - loss: 0.4994 - accuracy: 0.8343 - val_loss: 0.8676 - val_accuracy: 0.7320\n",
      "Epoch 5/10\n",
      "78/78 [==============================] - 143s 2s/step - loss: 0.4136 - accuracy: 0.8598 - val_loss: 0.8211 - val_accuracy: 0.7581\n",
      "Epoch 6/10\n",
      "78/78 [==============================] - 143s 2s/step - loss: 0.3547 - accuracy: 0.8805 - val_loss: 0.8052 - val_accuracy: 0.7618\n",
      "Epoch 7/10\n",
      "78/78 [==============================] - 143s 2s/step - loss: 0.3294 - accuracy: 0.8884 - val_loss: 0.8452 - val_accuracy: 0.7551\n",
      "Epoch 8/10\n",
      "78/78 [==============================] - 149s 2s/step - loss: 0.3070 - accuracy: 0.8960 - val_loss: 0.8443 - val_accuracy: 0.7615\n",
      "Epoch 9/10\n",
      "78/78 [==============================] - 144s 2s/step - loss: 0.2796 - accuracy: 0.9050 - val_loss: 0.9335 - val_accuracy: 0.7586\n",
      "Epoch 10/10\n",
      "78/78 [==============================] - 144s 2s/step - loss: 0.2661 - accuracy: 0.9082 - val_loss: 0.8946 - val_accuracy: 0.7649\n",
      "==============================\n",
      "Optimizer:  Adam\n",
      "Learning rate:  0.001\n",
      "Epochs:  10\n",
      "==============================\n",
      "Trained in 24.06 minutes\n"
     ]
    },
    {
     "name": "stderr",
     "output_type": "stream",
     "text": [
      "C:\\Users\\Lenovo\\AppData\\Local\\Temp\\ipykernel_10316\\1527297203.py:21: UserWarning: `Model.evaluate_generator` is deprecated and will be removed in a future version. Please use `Model.evaluate`, which supports generators.\n",
      "  test_accuracy = model.evaluate_generator(test_generator)[1]\n"
     ]
    },
    {
     "name": "stdout",
     "output_type": "stream",
     "text": [
      "Results at the end of training: accuracy=90.82%, test_accuracy=76.49%\n"
     ]
    },
    {
     "data": {
      "image/png": "[encoded data removed]",
      "text/plain": [
       "<Figure size 432x288 with 1 Axes>"
      ]
     },
     "metadata": {
      "needs_background": "light"
     },
     "output_type": "display_data"
    },
    {
     "data": {
      "image/png": "[encoded data removed]",
      "text/plain": [
       "<Figure size 432x288 with 1 Axes>"
      ]
     },
     "metadata": {
      "needs_background": "light"
     },
     "output_type": "display_data"
    }
   ],
   "source": [
    "optimizer=Adam(learning_rate=0.001)\n",
    "epochs=10\n",
    "train_model(get_classificator_model(pretrained_model, last_output), optimizer, epochs, train_generator)"
   ]
  },
  {
   "cell_type": "code",
   "execution_count": null,
   "id": "2545fd38",
   "metadata": {},
   "outputs": [
    {
     "name": "stdout",
     "output_type": "stream",
     "text": [
      "Epoch 1/30\n"
     ]
    },
    {
     "name": "stderr",
     "output_type": "stream",
     "text": [
      "C:\\Users\\Lenovo\\AppData\\Local\\Temp\\ipykernel_11732\\1527297203.py:5: UserWarning: `Model.fit_generator` is deprecated and will be removed in a future version. Please use `Model.fit`, which supports generators.\n",
      "  history = model.fit_generator(train_generator,\n"
     ]
    },
    {
     "name": "stdout",
     "output_type": "stream",
     "text": [
      "78/78 [==============================] - 147s 2s/step - loss: 2.2313 - accuracy: 0.4349 - val_loss: 1.2127 - val_accuracy: 0.6135\n",
      "Epoch 2/30\n",
      "78/78 [==============================] - 144s 2s/step - loss: 0.9794 - accuracy: 0.6762 - val_loss: 0.9399 - val_accuracy: 0.6990\n",
      "Epoch 3/30\n",
      "78/78 [==============================] - 145s 2s/step - loss: 0.7027 - accuracy: 0.7658 - val_loss: 0.8587 - val_accuracy: 0.7283\n",
      "Epoch 4/30\n",
      "78/78 [==============================] - 145s 2s/step - loss: 0.5696 - accuracy: 0.8072 - val_loss: 0.8268 - val_accuracy: 0.7413\n",
      "Epoch 5/30\n",
      "78/78 [==============================] - 145s 2s/step - loss: 0.4847 - accuracy: 0.8363 - val_loss: 0.8580 - val_accuracy: 0.7379\n",
      "Epoch 6/30\n",
      "78/78 [==============================] - 145s 2s/step - loss: 0.4256 - accuracy: 0.8550 - val_loss: 0.8291 - val_accuracy: 0.7488\n",
      "Epoch 7/30\n",
      "78/78 [==============================] - 145s 2s/step - loss: 0.3831 - accuracy: 0.8693 - val_loss: 0.8565 - val_accuracy: 0.7515\n",
      "Epoch 8/30\n",
      "78/78 [==============================] - 145s 2s/step - loss: 0.3521 - accuracy: 0.8802 - val_loss: 0.8384 - val_accuracy: 0.7683\n",
      "Epoch 9/30\n",
      "78/78 [==============================] - 145s 2s/step - loss: 0.3160 - accuracy: 0.8919 - val_loss: 0.8047 - val_accuracy: 0.7684\n",
      "Epoch 10/30\n",
      "78/78 [==============================] - 145s 2s/step - loss: 0.3081 - accuracy: 0.8944 - val_loss: 0.8459 - val_accuracy: 0.7585\n",
      "Epoch 11/30\n",
      "78/78 [==============================] - 167s 2s/step - loss: 0.2913 - accuracy: 0.9006 - val_loss: 0.8704 - val_accuracy: 0.7667\n",
      "Epoch 12/30\n",
      "78/78 [==============================] - 216s 3s/step - loss: 0.2741 - accuracy: 0.9063 - val_loss: 0.8454 - val_accuracy: 0.7786\n",
      "Epoch 13/30\n",
      "78/78 [==============================] - 213s 3s/step - loss: 0.2597 - accuracy: 0.9123 - val_loss: 0.8357 - val_accuracy: 0.7706\n",
      "Epoch 14/30\n",
      "78/78 [==============================] - 213s 3s/step - loss: 0.2539 - accuracy: 0.9133 - val_loss: 0.9057 - val_accuracy: 0.7664\n",
      "Epoch 15/30\n",
      "78/78 [==============================] - 186s 2s/step - loss: 0.2423 - accuracy: 0.9174 - val_loss: 0.9106 - val_accuracy: 0.7781\n",
      "Epoch 16/30\n",
      "78/78 [==============================] - 139s 2s/step - loss: 0.2335 - accuracy: 0.9193 - val_loss: 0.8347 - val_accuracy: 0.7781\n",
      "Epoch 17/30\n",
      "78/78 [==============================] - 139s 2s/step - loss: 0.2250 - accuracy: 0.9228 - val_loss: 0.9843 - val_accuracy: 0.7691\n",
      "Epoch 18/30\n",
      "78/78 [==============================] - 141s 2s/step - loss: 0.2133 - accuracy: 0.9257 - val_loss: 0.8995 - val_accuracy: 0.7800\n",
      "Epoch 19/30\n",
      "78/78 [==============================] - 140s 2s/step - loss: 0.2134 - accuracy: 0.9277 - val_loss: 0.9591 - val_accuracy: 0.7707\n",
      "Epoch 20/30\n",
      "78/78 [==============================] - 139s 2s/step - loss: 0.2074 - accuracy: 0.9282 - val_loss: 0.9783 - val_accuracy: 0.7719\n",
      "Epoch 21/30\n",
      "78/78 [==============================] - 139s 2s/step - loss: 0.1943 - accuracy: 0.9338 - val_loss: 0.9376 - val_accuracy: 0.7786\n",
      "Epoch 22/30\n",
      "78/78 [==============================] - 138s 2s/step - loss: 0.1925 - accuracy: 0.9342 - val_loss: 0.9880 - val_accuracy: 0.7764\n",
      "Epoch 23/30\n",
      "78/78 [==============================] - 139s 2s/step - loss: 0.1890 - accuracy: 0.9346 - val_loss: 0.9225 - val_accuracy: 0.7710\n",
      "Epoch 24/30\n",
      "78/78 [==============================] - 139s 2s/step - loss: 0.1938 - accuracy: 0.9335 - val_loss: 0.9709 - val_accuracy: 0.7768\n",
      "Epoch 25/30\n",
      "78/78 [==============================] - 138s 2s/step - loss: 0.1852 - accuracy: 0.9368 - val_loss: 0.9942 - val_accuracy: 0.7719\n",
      "Epoch 26/30\n",
      "78/78 [==============================] - 138s 2s/step - loss: 0.1857 - accuracy: 0.9373 - val_loss: 1.0073 - val_accuracy: 0.7740\n",
      "Epoch 27/30\n",
      "78/78 [==============================] - 140s 2s/step - loss: 0.1746 - accuracy: 0.9393 - val_loss: 1.0179 - val_accuracy: 0.7719\n",
      "Epoch 28/30\n",
      "78/78 [==============================] - 141s 2s/step - loss: 0.1810 - accuracy: 0.9389 - val_loss: 0.9842 - val_accuracy: 0.7800\n",
      "Epoch 29/30\n",
      "78/78 [==============================] - 139s 2s/step - loss: 0.1716 - accuracy: 0.9409 - val_loss: 0.9713 - val_accuracy: 0.7740\n",
      "Epoch 30/30\n",
      "78/78 [==============================] - 138s 2s/step - loss: 0.1718 - accuracy: 0.9406 - val_loss: 1.0617 - val_accuracy: 0.7775\n",
      "==============================\n",
      "Optimizer:  Adam\n",
      "Learning rate:  0.001\n",
      "Epochs:  30\n",
      "==============================\n",
      "Trained in 75.55 minutes\n"
     ]
    },
    {
     "name": "stderr",
     "output_type": "stream",
     "text": [
      "C:\\Users\\Lenovo\\AppData\\Local\\Temp\\ipykernel_11732\\1527297203.py:21: UserWarning: `Model.evaluate_generator` is deprecated and will be removed in a future version. Please use `Model.evaluate`, which supports generators.\n",
      "  test_accuracy = model.evaluate_generator(test_generator)[1]\n"
     ]
    },
    {
     "name": "stdout",
     "output_type": "stream",
     "text": [
      "Results at the end of training: accuracy=94.06%, test_accuracy=77.75%\n"
     ]
    },
    {
     "data": {
      "image/png": "[encoded data removed]",
      "text/plain": [
       "<Figure size 432x288 with 1 Axes>"
      ]
     },
     "metadata": {
      "needs_background": "light"
     },
     "output_type": "display_data"
    },
    {
     "data": {
      "image/png": "[encoded data removed]",
      "text/plain": [
       "<Figure size 432x288 with 1 Axes>"
      ]
     },
     "metadata": {
      "needs_background": "light"
     },
     "output_type": "display_data"
    }
   ],
   "source": [
    "optimizer=Adam(learning_rate=0.001)\n",
    "epochs=30\n",
    "train_model(get_classificator_model(pretrained_model, last_output), optimizer, epochs, train_generator)"
   ]
  },
  {
   "cell_type": "code",
   "execution_count": 28,
   "id": "b3212985",
   "metadata": {},
   "outputs": [
    {
     "name": "stderr",
     "output_type": "stream",
     "text": [
      "C:\\Users\\Lenovo\\AppData\\Local\\Temp\\ipykernel_10316\\1527297203.py:5: UserWarning: `Model.fit_generator` is deprecated and will be removed in a future version. Please use `Model.fit`, which supports generators.\n",
      "  history = model.fit_generator(train_generator,\n"
     ]
    },
    {
     "name": "stdout",
     "output_type": "stream",
     "text": [
      "Epoch 1/50\n",
      "78/78 [==============================] - 147s 2s/step - loss: 2.5799 - accuracy: 0.3933 - val_loss: 1.3321 - val_accuracy: 0.5937\n",
      "Epoch 2/50\n",
      "78/78 [==============================] - 149s 2s/step - loss: 1.0414 - accuracy: 0.6648 - val_loss: 0.9858 - val_accuracy: 0.6884\n",
      "Epoch 3/50\n",
      "78/78 [==============================] - 150s 2s/step - loss: 0.7187 - accuracy: 0.7635 - val_loss: 0.8777 - val_accuracy: 0.7262\n",
      "Epoch 4/50\n",
      "78/78 [==============================] - 156s 2s/step - loss: 0.5525 - accuracy: 0.8144 - val_loss: 0.8559 - val_accuracy: 0.7394\n",
      "Epoch 5/50\n",
      "78/78 [==============================] - 165s 2s/step - loss: 0.4585 - accuracy: 0.8440 - val_loss: 0.8523 - val_accuracy: 0.7431\n",
      "Epoch 6/50\n",
      "78/78 [==============================] - 157s 2s/step - loss: 0.3992 - accuracy: 0.8642 - val_loss: 0.7982 - val_accuracy: 0.7556\n",
      "Epoch 7/50\n",
      "78/78 [==============================] - 153s 2s/step - loss: 0.3566 - accuracy: 0.8776 - val_loss: 0.8381 - val_accuracy: 0.7605\n",
      "Epoch 8/50\n",
      "78/78 [==============================] - 157s 2s/step - loss: 0.3306 - accuracy: 0.8857 - val_loss: 0.8244 - val_accuracy: 0.7708\n",
      "Epoch 9/50\n",
      "78/78 [==============================] - 157s 2s/step - loss: 0.3007 - accuracy: 0.8975 - val_loss: 0.8698 - val_accuracy: 0.7603\n",
      "Epoch 10/50\n",
      "78/78 [==============================] - 152s 2s/step - loss: 0.2844 - accuracy: 0.9025 - val_loss: 0.8483 - val_accuracy: 0.7702\n",
      "Epoch 11/50\n",
      "78/78 [==============================] - 161s 2s/step - loss: 0.2593 - accuracy: 0.9107 - val_loss: 0.8839 - val_accuracy: 0.7747\n",
      "Epoch 12/50\n",
      "78/78 [==============================] - 160s 2s/step - loss: 0.2557 - accuracy: 0.9133 - val_loss: 0.9358 - val_accuracy: 0.7687\n",
      "Epoch 13/50\n",
      "78/78 [==============================] - 154s 2s/step - loss: 0.2398 - accuracy: 0.9178 - val_loss: 0.8738 - val_accuracy: 0.7781\n",
      "Epoch 14/50\n",
      "78/78 [==============================] - 151s 2s/step - loss: 0.2323 - accuracy: 0.9187 - val_loss: 0.9587 - val_accuracy: 0.7681\n",
      "Epoch 15/50\n",
      "78/78 [==============================] - 150s 2s/step - loss: 0.2239 - accuracy: 0.9235 - val_loss: 0.9996 - val_accuracy: 0.7709\n",
      "Epoch 16/50\n",
      "78/78 [==============================] - 150s 2s/step - loss: 0.2153 - accuracy: 0.9263 - val_loss: 0.9545 - val_accuracy: 0.7685\n",
      "Epoch 17/50\n",
      "78/78 [==============================] - 148s 2s/step - loss: 0.2086 - accuracy: 0.9288 - val_loss: 0.9890 - val_accuracy: 0.7675\n",
      "Epoch 18/50\n",
      "78/78 [==============================] - 145s 2s/step - loss: 0.2138 - accuracy: 0.9271 - val_loss: 0.9160 - val_accuracy: 0.7827\n",
      "Epoch 19/50\n",
      "78/78 [==============================] - 155s 2s/step - loss: 0.1963 - accuracy: 0.9321 - val_loss: 0.9419 - val_accuracy: 0.7838\n",
      "Epoch 20/50\n",
      "78/78 [==============================] - 151s 2s/step - loss: 0.1997 - accuracy: 0.9309 - val_loss: 0.9818 - val_accuracy: 0.7731\n",
      "Epoch 21/50\n",
      "78/78 [==============================] - 155s 2s/step - loss: 0.1890 - accuracy: 0.9356 - val_loss: 0.8948 - val_accuracy: 0.7868\n",
      "Epoch 22/50\n",
      "78/78 [==============================] - 148s 2s/step - loss: 0.1838 - accuracy: 0.9360 - val_loss: 1.0051 - val_accuracy: 0.7723\n",
      "Epoch 23/50\n",
      "78/78 [==============================] - 155s 2s/step - loss: 0.1860 - accuracy: 0.9359 - val_loss: 1.0065 - val_accuracy: 0.7791\n",
      "Epoch 24/50\n",
      "78/78 [==============================] - 149s 2s/step - loss: 0.1735 - accuracy: 0.9394 - val_loss: 0.9888 - val_accuracy: 0.7808\n",
      "Epoch 25/50\n",
      "78/78 [==============================] - 145s 2s/step - loss: 0.1766 - accuracy: 0.9399 - val_loss: 1.0095 - val_accuracy: 0.7831\n",
      "Epoch 26/50\n",
      "78/78 [==============================] - 144s 2s/step - loss: 0.1699 - accuracy: 0.9414 - val_loss: 1.0731 - val_accuracy: 0.7796\n",
      "Epoch 27/50\n",
      "78/78 [==============================] - 141s 2s/step - loss: 0.1687 - accuracy: 0.9422 - val_loss: 1.0746 - val_accuracy: 0.7747\n",
      "Epoch 28/50\n",
      "78/78 [==============================] - 142s 2s/step - loss: 0.1667 - accuracy: 0.9433 - val_loss: 1.1153 - val_accuracy: 0.7747\n",
      "Epoch 29/50\n",
      "78/78 [==============================] - 144s 2s/step - loss: 0.1524 - accuracy: 0.9471 - val_loss: 1.1087 - val_accuracy: 0.7820\n",
      "Epoch 30/50\n",
      "78/78 [==============================] - 146s 2s/step - loss: 0.1552 - accuracy: 0.9471 - val_loss: 1.1637 - val_accuracy: 0.7791\n",
      "Epoch 31/50\n",
      "78/78 [==============================] - 143s 2s/step - loss: 0.1555 - accuracy: 0.9459 - val_loss: 1.0918 - val_accuracy: 0.7759\n",
      "==============================\n",
      "Optimizer:  Adam\n",
      "Learning rate:  0.001\n",
      "Epochs:  50\n",
      "==============================\n",
      "Trained in 78.05 minutes\n"
     ]
    },
    {
     "name": "stderr",
     "output_type": "stream",
     "text": [
      "C:\\Users\\Lenovo\\AppData\\Local\\Temp\\ipykernel_10316\\1527297203.py:21: UserWarning: `Model.evaluate_generator` is deprecated and will be removed in a future version. Please use `Model.evaluate`, which supports generators.\n",
      "  test_accuracy = model.evaluate_generator(test_generator)[1]\n"
     ]
    },
    {
     "name": "stdout",
     "output_type": "stream",
     "text": [
      "Results at the end of training: accuracy=94.59%, test_accuracy=77.59%\n"
     ]
    },
    {
     "data": {
      "image/png": "[encoded data removed]",
      "text/plain": [
       "<Figure size 432x288 with 1 Axes>"
      ]
     },
     "metadata": {
      "needs_background": "light"
     },
     "output_type": "display_data"
    },
    {
     "data": {
      "image/png": "[encoded data removed]",
      "text/plain": [
       "<Figure size 432x288 with 1 Axes>"
      ]
     },
     "metadata": {
      "needs_background": "light"
     },
     "output_type": "display_data"
    }
   ],
   "source": [
    "optimizer=Adam(learning_rate=0.001)\n",
    "epochs=50\n",
    "train_model(get_classificator_model(pretrained_model, last_output), optimizer, epochs, train_generator)"
   ]
  }
 ],
 "metadata": {
  "kernelspec": {
   "display_name": "Python 3 (ipykernel)",
   "language": "python",
   "name": "python3"
  },
  "language_info": {
   "codemirror_mode": {
    "name": "ipython",
    "version": 3
   },
   "file_extension": ".py",
   "mimetype": "text/x-python",
   "name": "python",
   "nbconvert_exporter": "python",
   "pygments_lexer": "ipython3",
   "version": "3.9.12"
  }
 },
 "nbformat": 4,
 "nbformat_minor": 5
}
