{
 "cells": [
  {
   "cell_type": "code",
   "execution_count": 2,
   "id": "56614dcb",
   "metadata": {},
   "outputs": [],
   "source": [
    "import numpy as np\n",
    "import pandas as pd\n",
    "import os\n",
    "import matplotlib.pyplot as plt\n",
    "from PIL import Image\n",
    "import random\n",
    "import tensorflow as tf\n",
    "from tensorflow.keras.optimizers import RMSprop\n",
    "from tensorflow.keras.optimizers import Adam\n",
    "from tensorflow.keras.preprocessing.image import ImageDataGenerator, load_img, img_to_array\n",
    "from tensorflow.keras.utils import to_categorical\n",
    "from tensorflow.keras.layers import Input, Dense, Dropout, Conv2D, MaxPooling2D, UpSampling2D, Flatten, Reshape, Conv2DTranspose, ZeroPadding2D, Cropping2D\n",
    "from tensorflow.keras.models import Model\n",
    "from shutil import copyfile, rmtree\n",
    "from timeit import default_timer as timer"
   ]
  },
  {
   "cell_type": "code",
   "execution_count": 3,
   "id": "dc96f938",
   "metadata": {},
   "outputs": [],
   "source": [
    "#ОС - библиотека для работы с операционкой. Этой командой видим путь\n",
    "INPUT_ROOT = \"ML - 2\"\n",
    "def from_input(path):\n",
    "    return os.path.join(INPUT_ROOT, path)"
   ]
  },
  {
   "cell_type": "code",
   "execution_count": 4,
   "id": "ea5e24c7",
   "metadata": {},
   "outputs": [
    {
     "data": {
      "text/plain": [
       "ClassId\n",
       "0      210\n",
       "1     2220\n",
       "2     2250\n",
       "3     1410\n",
       "4     1980\n",
       "5     1860\n",
       "6      420\n",
       "7     1440\n",
       "8     1410\n",
       "9     1470\n",
       "10    2010\n",
       "11    1320\n",
       "12    2100\n",
       "13    2160\n",
       "14     780\n",
       "15     630\n",
       "16     420\n",
       "17    1110\n",
       "18    1200\n",
       "19     210\n",
       "20     360\n",
       "21     330\n",
       "22     390\n",
       "23     510\n",
       "24     270\n",
       "25    1500\n",
       "26     600\n",
       "27     240\n",
       "28     540\n",
       "29     270\n",
       "30     450\n",
       "31     780\n",
       "32     240\n",
       "33     689\n",
       "34     420\n",
       "35    1200\n",
       "36     390\n",
       "37     210\n",
       "38    2070\n",
       "39     300\n",
       "40     360\n",
       "41     240\n",
       "42     240\n",
       "Name: ClassId, dtype: int64"
      ]
     },
     "execution_count": 4,
     "metadata": {},
     "output_type": "execute_result"
    }
   ],
   "source": [
    "# Загружаем csv о обучении.\n",
    "train_info = pd.read_csv(from_input(\"Train.csv\"))\n",
    "train_info.groupby('ClassId')['ClassId'].count()"
   ]
  },
  {
   "cell_type": "code",
   "execution_count": 5,
   "id": "8a93c993",
   "metadata": {},
   "outputs": [
    {
     "data": {
      "text/plain": [
       "ClassId\n",
       "0      60\n",
       "1     720\n",
       "2     750\n",
       "3     450\n",
       "4     660\n",
       "5     630\n",
       "6     150\n",
       "7     450\n",
       "8     450\n",
       "9     480\n",
       "10    660\n",
       "11    420\n",
       "12    690\n",
       "13    720\n",
       "14    270\n",
       "15    210\n",
       "16    150\n",
       "17    360\n",
       "18    390\n",
       "19     60\n",
       "20     90\n",
       "21     90\n",
       "22    120\n",
       "23    150\n",
       "24     90\n",
       "25    480\n",
       "26    180\n",
       "27     60\n",
       "28    150\n",
       "29     90\n",
       "30    150\n",
       "31    270\n",
       "32     60\n",
       "33    210\n",
       "34    120\n",
       "35    390\n",
       "36    120\n",
       "37     60\n",
       "38    690\n",
       "39     90\n",
       "40     90\n",
       "41     60\n",
       "42     90\n",
       "Name: ClassId, dtype: int64"
      ]
     },
     "execution_count": 5,
     "metadata": {},
     "output_type": "execute_result"
    }
   ],
   "source": [
    "# Загружаем csv о тесте.\n",
    "test_info =  pd.read_csv(from_input(\"Test.csv\"))\n",
    "test_info.groupby('ClassId')['ClassId'].count()"
   ]
  },
  {
   "cell_type": "code",
   "execution_count": 6,
   "id": "845f9c7d",
   "metadata": {},
   "outputs": [],
   "source": [
    "TARGET_SIZE = (40, 40) # изображения будут изменены до этого размера\n",
    "FLATTEN_SIZE = TARGET_SIZE[0] * TARGET_SIZE[1] * 3\n",
    "BATCH_SIZE=500"
   ]
  },
  {
   "cell_type": "code",
   "execution_count": 7,
   "id": "6fd75727",
   "metadata": {},
   "outputs": [
    {
     "name": "stdout",
     "output_type": "stream",
     "text": [
      "Data loaded.              \n"
     ]
    }
   ],
   "source": [
    "paths = train_info['Path'].values\n",
    "y_train = train_info['ClassId'].values\n",
    "\n",
    "indices = np.arange(y_train.shape[0])\n",
    "randgen = random.Random(62)\n",
    "randgen.shuffle(indices)\n",
    "\n",
    "paths = paths[indices]\n",
    "y_train = y_train[indices]\n",
    "y_train = to_categorical(y_train, 43)\n",
    "\n",
    "train_data=[]\n",
    "\n",
    "for i, f in enumerate(paths):\n",
    "    print('\\rLoading data {0:.1f}%...'.format((i / len(paths)) * 100), end = '\\r')\n",
    "    image = load_img(os.path.join(from_input('train'), f.replace('Train/', '')), target_size=TARGET_SIZE)\n",
    "    train_data.append(img_to_array(image))\n",
    "\n",
    "print('Data loaded.              ')"
   ]
  },
  {
   "cell_type": "code",
   "execution_count": 8,
   "id": "384bee3c",
   "metadata": {},
   "outputs": [],
   "source": [
    "X_train = tf.keras.applications.vgg16.preprocess_input(np.array(train_data))\n",
    "train_data = None"
   ]
  },
  {
   "cell_type": "code",
   "execution_count": 9,
   "id": "24036a5a",
   "metadata": {},
   "outputs": [],
   "source": [
    "train_datagen = ImageDataGenerator(rescale=1.0/255.0)\n",
    "\n",
    "train_generator = train_datagen.flow(X_train,\n",
    "                                    y_train,\n",
    "                                    batch_size=BATCH_SIZE,\n",
    "                                    shuffle=True,\n",
    "                                    seed=17)\n",
    "\n",
    "train_aug_datagen = ImageDataGenerator(rescale=1.0/255.0,\n",
    "                                       rotation_range = 18,\n",
    "                                       width_shift_range = 0.18,\n",
    "                                       height_shift_range = 0.18,\n",
    "                                       shear_range = 0.18,\n",
    "                                       zoom_range = 0.18,\n",
    "                                       horizontal_flip = False)\n",
    "\n",
    "train_aug_generator = train_datagen.flow(X_train,\n",
    "                                    y_train,\n",
    "                                    batch_size=BATCH_SIZE,\n",
    "                                    shuffle=True,\n",
    "                                    seed=17)"
   ]
  },
  {
   "cell_type": "code",
   "execution_count": 10,
   "id": "df985a99",
   "metadata": {},
   "outputs": [
    {
     "name": "stdout",
     "output_type": "stream",
     "text": [
      "Data loaded.              \n"
     ]
    }
   ],
   "source": [
    "paths = test_info['Path'].values\n",
    "y_test = test_info['ClassId'].values\n",
    "y_test = to_categorical(y_test, 43)\n",
    "\n",
    "test_data=[]\n",
    "\n",
    "for i, f in enumerate(paths):\n",
    "    print('\\rLoading data {0:.1f}%...'.format((i / len(paths)) * 100), end = '\\r')\n",
    "    image = load_img(os.path.join(from_input('test'), f.replace('Test/', '')), target_size=TARGET_SIZE)\n",
    "    test_data.append(img_to_array(image))\n",
    "\n",
    "print('Data loaded.              ')"
   ]
  },
  {
   "cell_type": "code",
   "execution_count": 11,
   "id": "a76fd8c0",
   "metadata": {},
   "outputs": [],
   "source": [
    "X_test = tf.keras.applications.vgg16.preprocess_input(np.array(test_data))\n",
    "test_data = None"
   ]
  },
  {
   "cell_type": "code",
   "execution_count": 12,
   "id": "f3959b67",
   "metadata": {},
   "outputs": [],
   "source": [
    "test_datagen = ImageDataGenerator(rescale=1.0/255.0)\n",
    "test_generator = test_datagen.flow(X_test,\n",
    "                                    y_test,\n",
    "                                    batch_size=BATCH_SIZE,\n",
    "                                    shuffle=False,\n",
    "                                    seed=17)"
   ]
  },
  {
   "cell_type": "code",
   "execution_count": 13,
   "id": "e60ee78a",
   "metadata": {},
   "outputs": [],
   "source": [
    "def plot(history, plot_accuracy = True):\n",
    "    %matplotlib inline\n",
    "\n",
    "    import matplotlib.image  as mpimg\n",
    "    import matplotlib.pyplot as plt\n",
    "\n",
    "    \n",
    "    loss=history.history['loss']\n",
    "    epochs=range(len(loss))\n",
    "    plt.figure()\n",
    "    plt.plot(epochs, loss, 'r', \"Training Loss\")\n",
    "    plt.xlabel('Epoch')\n",
    "    plt.title('Training loss')\n",
    "    # validation\n",
    "    plt.plot(epochs, history.history['val_loss'], 'b', \"Validation Loss\")\n",
    "\n",
    "    if plot_accuracy:\n",
    "        accuracy=history.history['accuracy']\n",
    "        plt.figure()\n",
    "        plt.plot(epochs, accuracy, 'r', \"Training Accuracy\")\n",
    "        plt.title('Training accuracy')\n",
    "        plt.xlabel('Epoch')\n",
    "        plt.plot(epochs, history.history['val_accuracy'], 'b', \"Validation Accuracy\")"
   ]
  },
  {
   "cell_type": "code",
   "execution_count": 14,
   "id": "8cc8f97b",
   "metadata": {},
   "outputs": [],
   "source": [
    "def show_layers(model):\n",
    "    print('Name\\tOutput shape\\tActivation\\tInitializer')\n",
    "    for l in model.layers:\n",
    "        print('{0}({1})\\t{2}\\t{3}\\t{4}'\n",
    "            .format(l.name,\n",
    "              l.__class__.__name__,\n",
    "              l.output_shape,\n",
    "              l.activation.__name__ if hasattr(l, 'activation') else '<none>',\n",
    "              l.kernel_initializer.__class__.__name__ if hasattr(l, 'kernel_initializer') else '<none>'))\n",
    "\n",
    "\n",
    "def custom_summary(model):\n",
    "    model.summary()\n",
    "    show_layers(model)"
   ]
  },
  {
   "cell_type": "code",
   "execution_count": 15,
   "id": "a3338d1d",
   "metadata": {},
   "outputs": [],
   "source": [
    "VERBOSE=1"
   ]
  },
  {
   "cell_type": "code",
   "execution_count": 16,
   "id": "5cdfde42",
   "metadata": {},
   "outputs": [],
   "source": [
    "def train_model(model, optimizer, epochs, train_generator):\n",
    "    model.compile(optimizer=optimizer, loss='categorical_crossentropy', metrics=['accuracy'])\n",
    "\n",
    "    start_time = timer()\n",
    "    history = model.fit_generator(train_generator,\n",
    "                        epochs=epochs,\n",
    "                        verbose=VERBOSE,\n",
    "                        callbacks=[tf.keras.callbacks.EarlyStopping(monitor='accuracy', min_delta=0.0001, patience=2)],\n",
    "                        validation_data=test_generator,\n",
    "                        steps_per_epoch= round(X_train.shape[0] / BATCH_SIZE))\n",
    "    end_time = timer()\n",
    "    \n",
    "    print('==============================')\n",
    "    print('Optimizer: ', optimizer.__class__.__name__)\n",
    "    print('Learning rate: ', optimizer.get_config()['learning_rate'])\n",
    "    print('Epochs: ', epochs)\n",
    "    print('==============================')\n",
    "    print('Trained in {0:.2f} minutes'.format((end_time - start_time) / 60))\n",
    "    \n",
    "    accuracy=history.history['accuracy'][-1]\n",
    "    test_accuracy = model.evaluate_generator(test_generator)[1]\n",
    "    \n",
    "    print('Results at the end of training: accuracy={1:.02f}%, test_accuracy={2:.02f}%'\n",
    "          .format(i, accuracy*100, test_accuracy*100))\n",
    "\n",
    "    plot(history)"
   ]
  },
  {
   "cell_type": "code",
   "execution_count": 17,
   "id": "66d8343c",
   "metadata": {},
   "outputs": [],
   "source": [
    "def get_classificator_model(base_model, last_output):\n",
    "    x = Flatten()(last_output)\n",
    "    x = Dropout(0.33)(x)\n",
    "    x = Dense(256, activation='relu')(x)\n",
    "    x = Dropout(0.33)(x)\n",
    "    x = Dense(128, activation='relu')(x)\n",
    "    x = Dense(43, activation='softmax')(x)           \n",
    "\n",
    "    model = Model(base_model.input, x)\n",
    "    return model"
   ]
  },
  {
   "cell_type": "code",
   "execution_count": 18,
   "id": "a020698b",
   "metadata": {},
   "outputs": [],
   "source": [
    "IMG_SHAPE = TARGET_SIZE + (3,)"
   ]
  },
  {
   "cell_type": "code",
   "execution_count": 19,
   "id": "e9c8c51e",
   "metadata": {
    "scrolled": true
   },
   "outputs": [
    {
     "name": "stdout",
     "output_type": "stream",
     "text": [
      "Model: \"vgg16\"\n",
      "_________________________________________________________________\n",
      " Layer (type)                Output Shape              Param #   \n",
      "=================================================================\n",
      " input_1 (InputLayer)        [(None, 40, 40, 3)]       0         \n",
      "                                                                 \n",
      " block1_conv1 (Conv2D)       (None, 40, 40, 64)        1792      \n",
      "                                                                 \n",
      " block1_conv2 (Conv2D)       (None, 40, 40, 64)        36928     \n",
      "                                                                 \n",
      " block1_pool (MaxPooling2D)  (None, 20, 20, 64)        0         \n",
      "                                                                 \n",
      " block2_conv1 (Conv2D)       (None, 20, 20, 128)       73856     \n",
      "                                                                 \n",
      " block2_conv2 (Conv2D)       (None, 20, 20, 128)       147584    \n",
      "                                                                 \n",
      " block2_pool (MaxPooling2D)  (None, 10, 10, 128)       0         \n",
      "                                                                 \n",
      " block3_conv1 (Conv2D)       (None, 10, 10, 256)       295168    \n",
      "                                                                 \n",
      " block3_conv2 (Conv2D)       (None, 10, 10, 256)       590080    \n",
      "                                                                 \n",
      " block3_conv3 (Conv2D)       (None, 10, 10, 256)       590080    \n",
      "                                                                 \n",
      " block3_pool (MaxPooling2D)  (None, 5, 5, 256)         0         \n",
      "                                                                 \n",
      " block4_conv1 (Conv2D)       (None, 5, 5, 512)         1180160   \n",
      "                                                                 \n",
      " block4_conv2 (Conv2D)       (None, 5, 5, 512)         2359808   \n",
      "                                                                 \n",
      " block4_conv3 (Conv2D)       (None, 5, 5, 512)         2359808   \n",
      "                                                                 \n",
      " block4_pool (MaxPooling2D)  (None, 2, 2, 512)         0         \n",
      "                                                                 \n",
      " block5_conv1 (Conv2D)       (None, 2, 2, 512)         2359808   \n",
      "                                                                 \n",
      " block5_conv2 (Conv2D)       (None, 2, 2, 512)         2359808   \n",
      "                                                                 \n",
      " block5_conv3 (Conv2D)       (None, 2, 2, 512)         2359808   \n",
      "                                                                 \n",
      " block5_pool (MaxPooling2D)  (None, 1, 1, 512)         0         \n",
      "                                                                 \n",
      "=================================================================\n",
      "Total params: 14,714,688\n",
      "Trainable params: 14,714,688\n",
      "Non-trainable params: 0\n",
      "_________________________________________________________________\n"
     ]
    }
   ],
   "source": [
    "pretrained_model = tf.keras.applications.VGG16(input_shape=IMG_SHAPE,\n",
    "                                               include_top=False,\n",
    "                                               weights='imagenet')\n",
    "\n",
    "pretrained_model.summary()"
   ]
  },
  {
   "cell_type": "code",
   "execution_count": 20,
   "id": "dec2fc7a",
   "metadata": {},
   "outputs": [],
   "source": [
    "for layer in pretrained_model.layers:\n",
    "    layer.trainable = False"
   ]
  },
  {
   "cell_type": "code",
   "execution_count": 21,
   "id": "9faa2cd6",
   "metadata": {},
   "outputs": [
    {
     "name": "stdout",
     "output_type": "stream",
     "text": [
      "last layer output shape:  (None, 5, 5, 512)\n",
      "Epoch 1/10\n"
     ]
    },
    {
     "name": "stderr",
     "output_type": "stream",
     "text": [
      "C:\\Users\\Lenovo\\AppData\\Local\\Temp\\ipykernel_13284\\1527297203.py:5: UserWarning: `Model.fit_generator` is deprecated and will be removed in a future version. Please use `Model.fit`, which supports generators.\n",
      "  history = model.fit_generator(train_generator,\n"
     ]
    },
    {
     "name": "stdout",
     "output_type": "stream",
     "text": [
      "78/78 [==============================] - 146s 2s/step - loss: 1.9863 - accuracy: 0.4656 - val_loss: 1.1531 - val_accuracy: 0.6309\n",
      "Epoch 2/10\n",
      "78/78 [==============================] - 139s 2s/step - loss: 0.8874 - accuracy: 0.7052 - val_loss: 0.9814 - val_accuracy: 0.6846\n",
      "Epoch 3/10\n",
      "78/78 [==============================] - 139s 2s/step - loss: 0.6328 - accuracy: 0.7850 - val_loss: 0.8915 - val_accuracy: 0.7263\n",
      "Epoch 4/10\n",
      "78/78 [==============================] - 139s 2s/step - loss: 0.5063 - accuracy: 0.8273 - val_loss: 0.8362 - val_accuracy: 0.7474\n",
      "Epoch 5/10\n",
      "78/78 [==============================] - 139s 2s/step - loss: 0.4331 - accuracy: 0.8511 - val_loss: 0.8580 - val_accuracy: 0.7512\n",
      "Epoch 6/10\n",
      "78/78 [==============================] - 139s 2s/step - loss: 0.3843 - accuracy: 0.8690 - val_loss: 0.8231 - val_accuracy: 0.7598\n",
      "Epoch 7/10\n",
      "78/78 [==============================] - 142s 2s/step - loss: 0.3293 - accuracy: 0.8863 - val_loss: 0.8849 - val_accuracy: 0.7603\n",
      "Epoch 8/10\n",
      "78/78 [==============================] - 139s 2s/step - loss: 0.3093 - accuracy: 0.8925 - val_loss: 0.8987 - val_accuracy: 0.7610\n",
      "Epoch 9/10\n",
      "78/78 [==============================] - 139s 2s/step - loss: 0.2818 - accuracy: 0.9024 - val_loss: 0.8673 - val_accuracy: 0.7667\n",
      "Epoch 10/10\n",
      "78/78 [==============================] - 139s 2s/step - loss: 0.2694 - accuracy: 0.9089 - val_loss: 0.9213 - val_accuracy: 0.7665\n",
      "==============================\n",
      "Optimizer:  Adam\n",
      "Learning rate:  0.001\n",
      "Epochs:  10\n",
      "==============================\n",
      "Trained in 23.31 minutes\n"
     ]
    },
    {
     "name": "stderr",
     "output_type": "stream",
     "text": [
      "C:\\Users\\Lenovo\\AppData\\Local\\Temp\\ipykernel_13284\\1527297203.py:21: UserWarning: `Model.evaluate_generator` is deprecated and will be removed in a future version. Please use `Model.evaluate`, which supports generators.\n",
      "  test_accuracy = model.evaluate_generator(test_generator)[1]\n"
     ]
    },
    {
     "name": "stdout",
     "output_type": "stream",
     "text": [
      "Results at the end of training: accuracy=90.89%, test_accuracy=76.65%\n"
     ]
    },
    {
     "data": {
      "image/png": "[encoded data removed]",
      "text/plain": [
       "<Figure size 432x288 with 1 Axes>"
      ]
     },
     "metadata": {
      "needs_background": "light"
     },
     "output_type": "display_data"
    },
    {
     "data": {
      "image/png": "[encoded data removed]",
      "text/plain": [
       "<Figure size 432x288 with 1 Axes>"
      ]
     },
     "metadata": {
      "needs_background": "light"
     },
     "output_type": "display_data"
    }
   ],
   "source": [
    "last_layer = pretrained_model.get_layer('block4_conv3')\n",
    "print('last layer output shape: ', last_layer.output_shape)\n",
    "last_output = last_layer.output\n",
    "\n",
    "optimizer=Adam(learning_rate=0.001)\n",
    "epochs=10\n",
    "train_model(get_classificator_model(pretrained_model, last_output), optimizer, epochs, train_generator)"
   ]
  },
  {
   "cell_type": "code",
   "execution_count": 22,
   "id": "2545fd38",
   "metadata": {},
   "outputs": [
    {
     "name": "stdout",
     "output_type": "stream",
     "text": [
      "Epoch 1/30\n"
     ]
    },
    {
     "name": "stderr",
     "output_type": "stream",
     "text": [
      "C:\\Users\\Lenovo\\AppData\\Local\\Temp\\ipykernel_13284\\1527297203.py:5: UserWarning: `Model.fit_generator` is deprecated and will be removed in a future version. Please use `Model.fit`, which supports generators.\n",
      "  history = model.fit_generator(train_generator,\n"
     ]
    },
    {
     "name": "stdout",
     "output_type": "stream",
     "text": [
      "78/78 [==============================] - 135s 2s/step - loss: 2.1183 - accuracy: 0.4438 - val_loss: 1.1840 - val_accuracy: 0.6339\n",
      "Epoch 2/30\n",
      "78/78 [==============================] - 130s 2s/step - loss: 0.9258 - accuracy: 0.6955 - val_loss: 0.9187 - val_accuracy: 0.7052\n",
      "Epoch 3/30\n",
      "78/78 [==============================] - 130s 2s/step - loss: 0.6491 - accuracy: 0.7827 - val_loss: 0.8857 - val_accuracy: 0.7146\n",
      "Epoch 4/30\n",
      "78/78 [==============================] - 130s 2s/step - loss: 0.5230 - accuracy: 0.8231 - val_loss: 0.8464 - val_accuracy: 0.7419\n",
      "Epoch 5/30\n",
      "78/78 [==============================] - 131s 2s/step - loss: 0.4315 - accuracy: 0.8537 - val_loss: 0.8250 - val_accuracy: 0.7587\n",
      "Epoch 6/30\n",
      "78/78 [==============================] - 130s 2s/step - loss: 0.3861 - accuracy: 0.8682 - val_loss: 0.8198 - val_accuracy: 0.7624\n",
      "Epoch 7/30\n",
      "78/78 [==============================] - 133s 2s/step - loss: 0.3504 - accuracy: 0.8809 - val_loss: 0.8470 - val_accuracy: 0.7634\n",
      "Epoch 8/30\n",
      "78/78 [==============================] - 132s 2s/step - loss: 0.3213 - accuracy: 0.8906 - val_loss: 0.8525 - val_accuracy: 0.7635\n",
      "Epoch 9/30\n",
      "78/78 [==============================] - 130s 2s/step - loss: 0.2979 - accuracy: 0.8993 - val_loss: 0.8400 - val_accuracy: 0.7645\n",
      "Epoch 10/30\n",
      "78/78 [==============================] - 130s 2s/step - loss: 0.2706 - accuracy: 0.9074 - val_loss: 0.8781 - val_accuracy: 0.7690\n",
      "Epoch 11/30\n",
      "78/78 [==============================] - 136s 2s/step - loss: 0.2640 - accuracy: 0.9102 - val_loss: 0.8824 - val_accuracy: 0.7700\n",
      "Epoch 12/30\n",
      "78/78 [==============================] - 130s 2s/step - loss: 0.2486 - accuracy: 0.9137 - val_loss: 0.9358 - val_accuracy: 0.7618\n",
      "Epoch 13/30\n",
      "78/78 [==============================] - 131s 2s/step - loss: 0.2394 - accuracy: 0.9194 - val_loss: 0.9364 - val_accuracy: 0.7659\n",
      "Epoch 14/30\n",
      "78/78 [==============================] - 132s 2s/step - loss: 0.2254 - accuracy: 0.9212 - val_loss: 0.9002 - val_accuracy: 0.7693\n",
      "Epoch 15/30\n",
      "78/78 [==============================] - 131s 2s/step - loss: 0.2198 - accuracy: 0.9251 - val_loss: 0.9782 - val_accuracy: 0.7728\n",
      "Epoch 16/30\n",
      "78/78 [==============================] - 132s 2s/step - loss: 0.2152 - accuracy: 0.9260 - val_loss: 0.9646 - val_accuracy: 0.7723\n",
      "Epoch 17/30\n",
      "78/78 [==============================] - 132s 2s/step - loss: 0.2088 - accuracy: 0.9281 - val_loss: 0.9478 - val_accuracy: 0.7671\n",
      "Epoch 18/30\n",
      "78/78 [==============================] - 132s 2s/step - loss: 0.2021 - accuracy: 0.9306 - val_loss: 0.9363 - val_accuracy: 0.7736\n",
      "Epoch 19/30\n",
      "78/78 [==============================] - 132s 2s/step - loss: 0.2025 - accuracy: 0.9302 - val_loss: 0.9872 - val_accuracy: 0.7686\n",
      "Epoch 20/30\n",
      "78/78 [==============================] - 132s 2s/step - loss: 0.1858 - accuracy: 0.9357 - val_loss: 0.9952 - val_accuracy: 0.7725\n",
      "Epoch 21/30\n",
      "78/78 [==============================] - 132s 2s/step - loss: 0.1876 - accuracy: 0.9365 - val_loss: 0.9574 - val_accuracy: 0.7768\n",
      "Epoch 22/30\n",
      "78/78 [==============================] - 132s 2s/step - loss: 0.1819 - accuracy: 0.9377 - val_loss: 0.9350 - val_accuracy: 0.7828\n",
      "Epoch 23/30\n",
      "78/78 [==============================] - 133s 2s/step - loss: 0.1757 - accuracy: 0.9390 - val_loss: 0.9804 - val_accuracy: 0.7801\n",
      "Epoch 24/30\n",
      "78/78 [==============================] - 132s 2s/step - loss: 0.1755 - accuracy: 0.9396 - val_loss: 0.9826 - val_accuracy: 0.7812\n",
      "Epoch 25/30\n",
      "78/78 [==============================] - 132s 2s/step - loss: 0.1795 - accuracy: 0.9393 - val_loss: 1.0281 - val_accuracy: 0.7751\n",
      "Epoch 26/30\n",
      "78/78 [==============================] - 132s 2s/step - loss: 0.1642 - accuracy: 0.9446 - val_loss: 1.0131 - val_accuracy: 0.7740\n",
      "Epoch 27/30\n",
      "78/78 [==============================] - 132s 2s/step - loss: 0.1610 - accuracy: 0.9451 - val_loss: 1.0674 - val_accuracy: 0.7765\n",
      "Epoch 28/30\n",
      "78/78 [==============================] - 134s 2s/step - loss: 0.1597 - accuracy: 0.9454 - val_loss: 1.0873 - val_accuracy: 0.7756\n",
      "Epoch 29/30\n",
      "78/78 [==============================] - 132s 2s/step - loss: 0.1524 - accuracy: 0.9476 - val_loss: 1.0378 - val_accuracy: 0.7816\n",
      "Epoch 30/30\n",
      "78/78 [==============================] - 132s 2s/step - loss: 0.1602 - accuracy: 0.9448 - val_loss: 1.0069 - val_accuracy: 0.7858\n",
      "==============================\n",
      "Optimizer:  Adam\n",
      "Learning rate:  0.001\n",
      "Epochs:  30\n",
      "==============================\n",
      "Trained in 65.94 minutes\n"
     ]
    },
    {
     "name": "stderr",
     "output_type": "stream",
     "text": [
      "C:\\Users\\Lenovo\\AppData\\Local\\Temp\\ipykernel_13284\\1527297203.py:21: UserWarning: `Model.evaluate_generator` is deprecated and will be removed in a future version. Please use `Model.evaluate`, which supports generators.\n",
      "  test_accuracy = model.evaluate_generator(test_generator)[1]\n"
     ]
    },
    {
     "name": "stdout",
     "output_type": "stream",
     "text": [
      "Results at the end of training: accuracy=94.48%, test_accuracy=78.58%\n"
     ]
    },
    {
     "data": {
      "image/png": "[encoded data removed]",
      "text/plain": [
       "<Figure size 432x288 with 1 Axes>"
      ]
     },
     "metadata": {
      "needs_background": "light"
     },
     "output_type": "display_data"
    },
    {
     "data": {
      "image/png": "[encoded data removed]",
      "text/plain": [
       "<Figure size 432x288 with 1 Axes>"
      ]
     },
     "metadata": {
      "needs_background": "light"
     },
     "output_type": "display_data"
    }
   ],
   "source": [
    "optimizer=Adam(learning_rate=0.001)\n",
    "epochs=30\n",
    "train_model(get_classificator_model(pretrained_model, last_output), optimizer, epochs, train_generator)"
   ]
  },
  {
   "cell_type": "code",
   "execution_count": null,
   "id": "b3212985",
   "metadata": {},
   "outputs": [
    {
     "name": "stdout",
     "output_type": "stream",
     "text": [
      "Epoch 1/50\n"
     ]
    },
    {
     "name": "stderr",
     "output_type": "stream",
     "text": [
      "C:\\Users\\Lenovo\\AppData\\Local\\Temp\\ipykernel_13284\\1527297203.py:5: UserWarning: `Model.fit_generator` is deprecated and will be removed in a future version. Please use `Model.fit`, which supports generators.\n",
      "  history = model.fit_generator(train_generator,\n"
     ]
    },
    {
     "name": "stdout",
     "output_type": "stream",
     "text": [
      "78/78 [==============================] - 128s 2s/step - loss: 2.0531 - accuracy: 0.4495 - val_loss: 1.1978 - val_accuracy: 0.6280\n",
      "Epoch 2/50\n",
      "78/78 [==============================] - 131s 2s/step - loss: 0.9164 - accuracy: 0.6966 - val_loss: 0.9184 - val_accuracy: 0.7137\n",
      "Epoch 3/50\n",
      "78/78 [==============================] - 132s 2s/step - loss: 0.6426 - accuracy: 0.7825 - val_loss: 0.8362 - val_accuracy: 0.7305\n",
      "Epoch 4/50\n",
      "78/78 [==============================] - 132s 2s/step - loss: 0.5032 - accuracy: 0.8307 - val_loss: 0.8588 - val_accuracy: 0.7350\n",
      "Epoch 5/50\n",
      "78/78 [==============================] - 132s 2s/step - loss: 0.4367 - accuracy: 0.8495 - val_loss: 0.8098 - val_accuracy: 0.7520\n",
      "Epoch 6/50\n",
      "78/78 [==============================] - 132s 2s/step - loss: 0.3757 - accuracy: 0.8696 - val_loss: 0.8524 - val_accuracy: 0.7525\n",
      "Epoch 7/50\n",
      "78/78 [==============================] - 132s 2s/step - loss: 0.3364 - accuracy: 0.8835 - val_loss: 0.8366 - val_accuracy: 0.7595\n",
      "Epoch 8/50\n",
      "78/78 [==============================] - 134s 2s/step - loss: 0.3155 - accuracy: 0.8920 - val_loss: 0.8918 - val_accuracy: 0.7592\n",
      "Epoch 9/50\n",
      "78/78 [==============================] - 132s 2s/step - loss: 0.2897 - accuracy: 0.9004 - val_loss: 0.8924 - val_accuracy: 0.7595\n",
      "Epoch 10/50\n",
      "78/78 [==============================] - 132s 2s/step - loss: 0.2735 - accuracy: 0.9064 - val_loss: 0.8287 - val_accuracy: 0.7695\n",
      "Epoch 11/50\n",
      "78/78 [==============================] - 132s 2s/step - loss: 0.2628 - accuracy: 0.9097 - val_loss: 0.8673 - val_accuracy: 0.7709\n",
      "Epoch 12/50\n",
      "78/78 [==============================] - 131s 2s/step - loss: 0.2470 - accuracy: 0.9149 - val_loss: 0.8849 - val_accuracy: 0.7705\n",
      "Epoch 13/50\n",
      "78/78 [==============================] - 131s 2s/step - loss: 0.2302 - accuracy: 0.9201 - val_loss: 0.9159 - val_accuracy: 0.7813\n",
      "Epoch 14/50\n",
      "78/78 [==============================] - 132s 2s/step - loss: 0.2255 - accuracy: 0.9220 - val_loss: 0.9261 - val_accuracy: 0.7674\n",
      "Epoch 15/50\n",
      "78/78 [==============================] - 131s 2s/step - loss: 0.2133 - accuracy: 0.9262 - val_loss: 0.9226 - val_accuracy: 0.7644\n",
      "Epoch 16/50\n",
      "78/78 [==============================] - 132s 2s/step - loss: 0.2179 - accuracy: 0.9253 - val_loss: 1.0022 - val_accuracy: 0.7698\n",
      "Epoch 17/50\n",
      "78/78 [==============================] - 131s 2s/step - loss: 0.2021 - accuracy: 0.9319 - val_loss: 0.9515 - val_accuracy: 0.7635\n",
      "Epoch 18/50\n",
      "78/78 [==============================] - 131s 2s/step - loss: 0.1999 - accuracy: 0.9319 - val_loss: 0.9868 - val_accuracy: 0.7649\n",
      "Epoch 19/50\n",
      "78/78 [==============================] - 131s 2s/step - loss: 0.1891 - accuracy: 0.9347 - val_loss: 0.9930 - val_accuracy: 0.7740\n",
      "Epoch 20/50\n",
      "78/78 [==============================] - 133s 2s/step - loss: 0.1821 - accuracy: 0.9372 - val_loss: 0.9818 - val_accuracy: 0.7783\n",
      "Epoch 21/50\n",
      "78/78 [==============================] - 132s 2s/step - loss: 0.1823 - accuracy: 0.9381 - val_loss: 0.9878 - val_accuracy: 0.7721\n",
      "Epoch 22/50\n",
      "70/78 [=========================>....] - ETA: 10s - loss: 0.1913 - accuracy: 0.9341"
     ]
    }
   ],
   "source": [
    "optimizer=Adam(learning_rate=0.001)\n",
    "epochs=50\n",
    "train_model(get_classificator_model(pretrained_model, last_output), optimizer, epochs, train_generator)"
   ]
  },
  {
   "cell_type": "code",
   "execution_count": null,
   "id": "ee979484",
   "metadata": {},
   "outputs": [],
   "source": []
  }
 ],
 "metadata": {
  "kernelspec": {
   "display_name": "Python 3 (ipykernel)",
   "language": "python",
   "name": "python3"
  },
  "language_info": {
   "codemirror_mode": {
    "name": "ipython",
    "version": 3
   },
   "file_extension": ".py",
   "mimetype": "text/x-python",
   "name": "python",
   "nbconvert_exporter": "python",
   "pygments_lexer": "ipython3",
   "version": "3.9.12"
  }
 },
 "nbformat": 4,
 "nbformat_minor": 5
}
